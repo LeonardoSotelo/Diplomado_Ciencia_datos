{
 "cells": [
  {
   "cell_type": "markdown",
   "id": "fb0f9d8e-18eb-4dfd-a01b-1f7f89f04bdc",
   "metadata": {},
   "source": [
    "<figure><img src=\"https://fundamentos-libro.s3.amazonaws.com/_static/logo-final-ap.png\" width=70\\ height=70\\ align=right /></figure> <font size=\"6\"> <center> <span style=\"color:red\"> PROBABILIDAD</span> </center> </font> <br>\n",
    "<center> Leonardo Sotelo Montaña </center>"
   ]
  },
  {
   "cell_type": "markdown",
   "id": "20f64e3a-3544-4e20-b3ee-af73a8c91125",
   "metadata": {},
   "source": [
    "<figure><img src= \"foto_leo.jpeg\" width=70\\ height=40\\ align=left /></figure> <br>   \n",
    "Estudiante de química de la Universidad Nacional de Colombia con conocimientos en analisis de muestras por diferentes metodos espectrocopicos. "
   ]
  },
  {
   "cell_type": "markdown",
   "id": "50a45ad2-d6bc-4b48-b5be-cbcde40ed710",
   "metadata": {},
   "source": [
    "La probabilidad nace como una forma de medir que un evento ocurra con certeza en un espacio muestral, la cual dependera de la naturaleza del experimento que se desea modelar. Esta se denota con la letra $P$ y toma valores entre $0$ y $1$. Esto quiere decir que si tomamos un espacio muestral $M$ su probabilidad será igual a $1$."
   ]
  },
  {
   "cell_type": "markdown",
   "id": "781cf0e5-c381-4c0b-a018-bc6bf64496a5",
   "metadata": {},
   "source": [
    "## **Asignación de la probabilidad clásica**"
   ]
  },
  {
   "cell_type": "markdown",
   "id": "12d97e3b-fad8-44da-a448-5eeb9ce1ae55",
   "metadata": {},
   "source": [
    "Supongamos un espacio muestral $M$ finito con $n$ puntos muestrales y que todos los posibles resultados son igualmente predesibles. Cada resultado tendría una probabilidad de ocurrencia de $\\frac{1}{n}$. Si tenemos un evento $A$ que tiene $k$ resultados que cumplen con cierta condición, entonces la probabilidad de $A$ sería: $$P(A)=\\frac{Casos\, probables}{Casos\, favorables}=\\frac{k}{n}$$\n",
    "donde $k\\leq n$."
   ]
  },
  {
   "cell_type": "markdown",
   "id": "12e51953-fe08-4958-b8bd-5497008bfe46",
   "metadata": {},
   "source": [
    "A continuación veremos algunas propiedades de la probabilidad."
   ]
  },
  {
   "cell_type": "markdown",
   "id": "12dceaa8-e277-40ee-a5f9-a63254c91da6",
   "metadata": {},
   "source": [
    "## **Regla aditiva**"
   ]
  },
  {
   "cell_type": "markdown",
   "id": "11825579-a502-4fbb-a66b-9ebcd3b7575e",
   "metadata": {},
   "source": [
    "Si tenemos un evento $A$ y un evento $B$, la probabilidad de que ocurra cualquiera de los dos eventos será igual a la suma de sus probabilidades individuales, siempre y cuando estos sean mutualmente excluyentes (es decir, $A\\cap B=\\emptyset$). Sin embargo, si estos no son mutualmente excluyentes, su probabilidad estará dada por: $$P(A\\cup B)=P(A)+P(B)-P(A\\cap B)$$"
   ]
  },
  {
   "cell_type": "markdown",
   "id": "f4723ff3-d226-415a-9648-f4b57e12412a",
   "metadata": {},
   "source": [
    "### **Probabilidad del complemento de un evento**"
   ]
  },
  {
   "cell_type": "markdown",
   "id": "94bc5890-6251-47f3-8aa5-ba71f9e114fb",
   "metadata": {},
   "source": [
    "El complemeto de un evento $A$ es el conjunto de eventos que estan por fuera del mismo. Este se denota como $A^c$, por lo que: $$P(A^c)=1-P(A)$$ y como consecuencia $$P(M^c)=1-P(M)=\\emptyset$$"
   ]
  },
  {
   "cell_type": "markdown",
   "id": "1cffe604-1745-4060-a95f-e558a1e1aaef",
   "metadata": {},
   "source": [
    "## **Probabilidad condicional**"
   ]
  },
  {
   "cell_type": "markdown",
   "id": "c9c18225-8141-4015-a807-865e401b77de",
   "metadata": {},
   "source": [
    "Si tenemos dos eventos $A$ y $B$, la probabilidad condicional $A$ dado $B$ se define como: $$P(A|B)=\\frac{P(A\\cap B}{P(B)}$$\n",
    "es decir, se calcula la probabilidad de que ocurra $A$ cuando el evento $B$ ya ha ocurrido."
   ]
  },
  {
   "cell_type": "markdown",
   "id": "941550ed-bc35-4871-8613-48bfc2bcb8a8",
   "metadata": {},
   "source": [
    "## **Regla de la multiplicación**"
   ]
  },
  {
   "cell_type": "markdown",
   "id": "723df715-ba14-4bac-a0e0-18de31f46e83",
   "metadata": {},
   "source": [
    "De la definición de probabilidad condicional podemos desprender que: $$P(A\\cap B)=P(A|B)\\times P(B)$$\n",
    "que es la probabilidad de que ocurran dos eventos. "
   ]
  },
  {
   "cell_type": "markdown",
   "id": "fdcfa6d5-a9a1-4454-bfd4-80408752c9e1",
   "metadata": {},
   "source": [
    "### **Independencia entre eventos**"
   ]
  },
  {
   "cell_type": "markdown",
   "id": "43c702a4-8a05-4e49-a374-245c8a2004ed",
   "metadata": {},
   "source": [
    "Se dice que tenemos dos eventos $A$ y $B$ que son independientes si la ocurrencia de $A$ no afecta a $B$ y viceversa. Esto significa que: $$P(A|B)=P(A)$$ teniendo en cuenta la regla de la multiplicación llegamos a que: $$P(A\\cap B)=P(A)\\times P(B)$$"
   ]
  },
  {
   "cell_type": "markdown",
   "id": "a411130e-cea5-4efd-b9bd-31b4b1f6ae85",
   "metadata": {},
   "source": [
    "## **Ejemplo**"
   ]
  },
  {
   "cell_type": "markdown",
   "id": "8bac9e9f-97bd-4ed0-9617-04f2a2120388",
   "metadata": {},
   "source": [
    "En una fiesta hay 50 personas. Calcular la probabilidad de que por lo menos dos personas cumplan años el mismos día. "
   ]
  },
  {
   "cell_type": "markdown",
   "id": "784a09f8-95fd-4c9b-a2e7-5ac50a8f7563",
   "metadata": {},
   "source": [
    "Una forma de sencilla de calcular la probabilidad de que dos personas cumplan el mismo año es calcular su complemento, es decir, la probabilidad de que dos personas no cumplan el mismo día. Si en la fiesta hubieran dos personas, la probabilidad de que no repitan cumpleaños sería de $\\frac{364}{365}$, si hay 3 personas, la probabilidad sería $\\frac{364}{365}\\times\\frac{363}{365}$ y así respectivamente. De forma que para las 50 personas tendríamos: $$P(No \\, compartan \\, cumpleaños)=\\frac{364}{365}\\times\\frac{363}{365}\\times\\dots =\\prod_{i=0}^{49} \\frac{365-i}{365}$$ de forma que la probabilidad de que dos personas cumplan el mismo día es: $$ P(Compartan \\, cumpleaños)=1-P(No \\, compartan \\, cumpleaños)=1-\\prod_{i=0}^{49} \\frac{365-i}{365} $$ Realizando el calculo tenemos que:"
   ]
  },
  {
   "cell_type": "code",
   "execution_count": 15,
   "id": "f3af57ed-6d74-43fc-9ebf-f20802fe76f3",
   "metadata": {},
   "outputs": [
    {
     "name": "stdout",
     "output_type": "stream",
     "text": [
      "La probabilidad de que compartan cumpleaños es 0.9703735795779884\n"
     ]
    }
   ],
   "source": [
    "pnA= 1.0\n",
    "personas = 50\n",
    "\n",
    "for i in range(personas):\n",
    "    pnA = pnA * (365-i)/365\n",
    "\n",
    "print(\"La probabilidad de que compartan cumpleaños es\", 1-pnA)"
   ]
  },
  {
   "cell_type": "markdown",
   "id": "7ed9e5e6-ffbd-44e9-8a49-447b6c91ac16",
   "metadata": {},
   "source": [
    "## **Referencias**"
   ]
  },
  {
   "cell_type": "markdown",
   "id": "a5c3398f-61c2-4993-a825-eb933f2cb773",
   "metadata": {},
   "source": [
    "1. Montenegro, A. Montenegro, D. (2020) <a href= https://fundamentos-libro.s3.amazonaws.com/tutorial.html>Fundamentos de IA y AP</a>. Aprendizaje Profundo. <br>\n",
    "2. Lopez, R. (2016) <a href=https://relopezbriega.github.io/blog/2016/11/26/introduccion-a-la-teoria-de-probabilidad-con-python/ >Introducción a la teoría de probabilidad con Python</a>. Recuperado el 21 de octubre de 2022."
   ]
  }
 ],
 "metadata": {
  "kernelspec": {
   "display_name": "Python 3 (ipykernel)",
   "language": "python",
   "name": "python3"
  },
  "language_info": {
   "codemirror_mode": {
    "name": "ipython",
    "version": 3
   },
   "file_extension": ".py",
   "mimetype": "text/x-python",
   "name": "python",
   "nbconvert_exporter": "python",
   "pygments_lexer": "ipython3",
   "version": "3.10.6"
  }
 },
 "nbformat": 4,
 "nbformat_minor": 5
}
