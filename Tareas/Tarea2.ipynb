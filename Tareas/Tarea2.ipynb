{
 "cells": [
  {
   "cell_type": "markdown",
   "id": "a35fe703-af10-440c-afb0-21122b29f3bd",
   "metadata": {},
   "source": [
    "Tarea 2- Leonardo Sotelo"
   ]
  },
  {
   "cell_type": "markdown",
   "id": "5ed4d5f2-1c74-4184-8a52-bc599bdc1a17",
   "metadata": {},
   "source": [
    "1. Escriba una función  que reciba la fecha de nacimiento de un a persona y calcule la edad de la persona"
   ]
  },
  {
   "cell_type": "code",
   "execution_count": 2,
   "id": "325f21d6-da40-4c2b-83cd-58250708c8dd",
   "metadata": {},
   "outputs": [
    {
     "name": "stdout",
     "output_type": "stream",
     "text": [
      "El siguiente programa es para calcular tu edad\n"
     ]
    },
    {
     "name": "stdin",
     "output_type": "stream",
     "text": [
      "Ingresa el año de nacimiento: 1998\n",
      "Ingresa el mes de nacimiento: julio\n",
      "Ingresa el día de nacimiento: 7\n"
     ]
    },
    {
     "name": "stdout",
     "output_type": "stream",
     "text": [
      "Usted tiene 24 años\n"
     ]
    }
   ],
   "source": [
    "from datetime import date\n",
    "import sys\n",
    "\n",
    "fecha= date.today()\n",
    "\n",
    "print(\"El siguiente programa es para calcular tu edad\")\n",
    "a=int(input(\"Ingresa el año de nacimiento:\"))\n",
    "if a > fecha.year:\n",
    "    sys.exit(\"No es un año valido, intentelo de nuevo\")\n",
    "m=input(\"Ingresa el mes de nacimiento:\")\n",
    "mN =[\"1\",\"2\",\"3\",\"4\",\"5\",\"6\",\"7\",\"8\",\"9\",\"10\",\"11\",\"12\"]\n",
    "mL=[\"enero\",\"febrero\",\"marzo\",\"abril\",\"mayo\",\"junio\",\"julio\",\"agosto\",\"septiembre\",\"octubre\",\"noviembre\",\"diciembre\"]\n",
    "\n",
    "if m in mN:\n",
    "    m=int(m)\n",
    "elif m in mL:\n",
    "        m= mL.index(m)+1\n",
    "else:\n",
    "    sys.exit(\"No es un mes valido, intentelo de nuevo\")\n",
    "d=int(input(\"Ingresa el día de nacimiento:\"))\n",
    "if d > 31:\n",
    "    sys.exit(\"No es un día valido, intentelo de nuevo\")\n",
    "if d < 1:\n",
    "    sys.exit(\"No es un día valido, intentelo de nuevo\")\n",
    "\n",
    "fecha_nacimiento=a,m,d\n",
    "def calc_edad(fecha):\n",
    "    hoy = date.today()\n",
    "    edad = hoy.year-fecha_nacimiento[0]-((hoy.month, hoy.day)<(fecha_nacimiento[1],fecha_nacimiento[0]))\n",
    "    return edad\n",
    "\n",
    "\n",
    "print(\"Usted tiene\", calc_edad(fecha_nacimiento), \"años\")"
   ]
  },
  {
   "cell_type": "markdown",
   "id": "50194333-2c7a-4cc5-a262-da8e83875d89",
   "metadata": {},
   "source": [
    "3. Construya una función decorada que reciba un texto y lo escriba marcado con Markdown en itálica y resaltada (bold)."
   ]
  },
  {
   "cell_type": "code",
   "execution_count": 94,
   "id": "d6b818fe-8232-43e0-a5fc-f6845a167e80",
   "metadata": {
    "tags": []
   },
   "outputs": [
    {
     "name": "stdin",
     "output_type": "stream",
     "text": [
      "Escriba un texto: Hola mundo\n"
     ]
    },
    {
     "name": "stdout",
     "output_type": "stream",
     "text": [
      "Hola mundo\n"
     ]
    }
   ],
   "source": [
    "def make_bold(fn):\n",
    "    def makebold_wrapper():\n",
    "        return \"\" + fn() + \"\"\n",
    "    return makebold_wrapper\n",
    "\n",
    "def make_italic(fn):\n",
    "    def makeitalic_wrapper():\n",
    "        return \"\" + fn() + \"\"\n",
    "    return makeitalic_wrapper\n",
    "\n",
    "# aplica los decoradores\n",
    "t=input(\"Escriba un texto:\")\n",
    "\n",
    "@make_bold\n",
    "@make_italic\n",
    "def hello():\n",
    "    return t\n",
    "\n",
    "print(hello())"
   ]
  },
  {
   "cell_type": "markdown",
   "id": "143cda01-c20d-43c0-97dc-951f9fbd58aa",
   "metadata": {
    "tags": []
   },
   "source": [
    "4.  Crea un programa que pida dos número enteros al usuario y diga si alguno de ellos es múltiplo del otro."
   ]
  },
  {
   "cell_type": "code",
   "execution_count": 3,
   "id": "2a3c517a-3084-4058-ac40-de51ff7fa778",
   "metadata": {
    "tags": []
   },
   "outputs": [
    {
     "name": "stdout",
     "output_type": "stream",
     "text": [
      "El siguiente programa le dira si un numero es multiplo de otro\n"
     ]
    },
    {
     "name": "stdin",
     "output_type": "stream",
     "text": [
      "Ingrese un número entero: 13342\n",
      "Ingrese un otro número entero: 2\n"
     ]
    },
    {
     "name": "stdout",
     "output_type": "stream",
     "text": [
      "13342 es multiplo de  2\n"
     ]
    }
   ],
   "source": [
    "print(\"El siguiente programa le dira si un numero es multiplo de otro\")\n",
    "a = int(input(\"Ingrese un número entero:\"))\n",
    "b = int(input(\"Ingrese un otro número entero:\"))\n",
    "\n",
    "if a%b==0:\n",
    "    print(a, \"es multiplo de \", b)\n",
    "elif b%a==0:\n",
    "    print(b, \"es multiplo de \", a)\n",
    "else:\n",
    "    print(a, \"y\", b, \"no son multiplos\")\n"
   ]
  },
  {
   "cell_type": "markdown",
   "id": "27db54b0-eb74-4ab5-bf28-9bc7933ae75a",
   "metadata": {
    "tags": []
   },
   "source": [
    "5. Crear una función re reciba una lista  de 24 valores de temperatura leída  hora en un día y que calcule la temperatura media  Cree una lista con 24 valores de temperatura de un día de Bogotá y pruebe su función."
   ]
  },
  {
   "cell_type": "code",
   "execution_count": 1,
   "id": "1a16dd05-3ca0-48ea-9230-c17c7bed7491",
   "metadata": {
    "tags": []
   },
   "outputs": [
    {
     "name": "stdout",
     "output_type": "stream",
     "text": [
      "El siguiente programa calculara la temperatura media del día en grados centigrados\n"
     ]
    },
    {
     "name": "stdin",
     "output_type": "stream",
     "text": [
      "Ingrese la temperatura a las 0:00 : 12\n",
      "Ingrese la temperatura a las 1:00 : 12\n",
      "Ingrese la temperatura a las 2:00 : 11\n",
      "Ingrese la temperatura a las 3:00 : 12\n",
      "Ingrese la temperatura a las 4:00 : 11\n",
      "Ingrese la temperatura a las 5:00 : 11\n",
      "Ingrese la temperatura a las 6:00 : 11\n",
      "Ingrese la temperatura a las 7:00 : 12\n",
      "Ingrese la temperatura a las 8:00 : 14\n",
      "Ingrese la temperatura a las 9:00 : 16\n",
      "Ingrese la temperatura a las 10:00 : 18\n",
      "Ingrese la temperatura a las 11:00 : 19\n",
      "Ingrese la temperatura a las 12:00 : 20\n",
      "Ingrese la temperatura a las 13:00 : 19\n",
      "Ingrese la temperatura a las 14:00 : 19\n",
      "Ingrese la temperatura a las 15:00 : 18\n",
      "Ingrese la temperatura a las 16:00 : 17\n",
      "Ingrese la temperatura a las 17:00 : 16\n",
      "Ingrese la temperatura a las 18:00 : 15\n",
      "Ingrese la temperatura a las 19:00 : 14\n",
      "Ingrese la temperatura a las 20:00 : 13\n",
      "Ingrese la temperatura a las 21:00 : 13\n",
      "Ingrese la temperatura a las 22:00 : 12\n",
      "Ingrese la temperatura a las 23:00 : 12\n"
     ]
    },
    {
     "name": "stdout",
     "output_type": "stream",
     "text": [
      "La temperatura media durante el día es 14.5 °C\n"
     ]
    }
   ],
   "source": [
    "print(\"El siguiente programa calculara la temperatura media del día en grados centigrados\")\n",
    "hora_dia=0\n",
    "d_temp=[]\n",
    "while hora_dia<24:\n",
    "    temp=float(input(\"Ingrese la temperatura a las \" + str(hora_dia)+\":00 :\"))\n",
    "    d_temp.append(temp)\n",
    "    hora_dia=hora_dia+1\n",
    "suma_temp=0\n",
    "for i in d_temp:\n",
    "    suma_temp= suma_temp+i\n",
    "    media=suma_temp/24\n",
    "\n",
    "media=round(media,1)\n",
    "print(\"La temperatura media durante el día es\", media, \"°C\")\n"
   ]
  },
  {
   "cell_type": "markdown",
   "id": "5bfa9d52-b6aa-4755-95da-2354cc561448",
   "metadata": {
    "tags": []
   },
   "source": [
    "5. Crea un función “ConvertirEspaciado”, que reciba como parámetro un texto y devuelve una cadena con un espacio adicional tras cada letra."
   ]
  },
  {
   "cell_type": "code",
   "execution_count": 92,
   "id": "e0730660-83be-4069-aa45-9fd64ff30dea",
   "metadata": {
    "tags": []
   },
   "outputs": [
    {
     "name": "stdin",
     "output_type": "stream",
     "text": [
      "Ingrese el mensaje: Hola, tú\n"
     ]
    },
    {
     "name": "stdout",
     "output_type": "stream",
     "text": [
      "H o l a , t ú \n"
     ]
    }
   ],
   "source": [
    "men =input(\"Ingrese el mensaje:\")\n",
    "\n",
    "def esp(m):\n",
    "    i=0\n",
    "    nm =\"\"\n",
    "    while i < len(m):\n",
    "        if m[i]!= \" \":\n",
    "            ext = m[i]\n",
    "            nm += m[i] + \" \"\n",
    "            i = i +1\n",
    "        else:\n",
    "            i=i+1\n",
    "    return nm\n",
    "\n",
    "print(esp(men))"
   ]
  },
  {
   "cell_type": "markdown",
   "id": "ac8846ea-0101-420c-874b-a090c69ab741",
   "metadata": {},
   "source": [
    "6. Crea una función “calcularMaxMin” que recibe una arreglo con valores numérico y devuelve el valor máximo y el mínimo."
   ]
  },
  {
   "cell_type": "code",
   "execution_count": 47,
   "id": "7f9cc41f-4a4b-46f3-a5ee-3e179abe70d3",
   "metadata": {},
   "outputs": [
    {
     "name": "stdout",
     "output_type": "stream",
     "text": [
      "El programa le dara como resultado el valor minimo y maximo de una lista de números\n"
     ]
    },
    {
     "name": "stdin",
     "output_type": "stream",
     "text": [
      "Ingrese un numero (si no desea ingresar más números presione ENTER): 6\n",
      "Ingrese un numero (si no desea ingresar más números presione ENTER): 5\n",
      "Ingrese un numero (si no desea ingresar más números presione ENTER): 3\n",
      "Ingrese un numero (si no desea ingresar más números presione ENTER): 4\n",
      "Ingrese un numero (si no desea ingresar más números presione ENTER): 3.5\n",
      "Ingrese un numero (si no desea ingresar más números presione ENTER): 3.5\n",
      "Ingrese un numero (si no desea ingresar más números presione ENTER): 25\n",
      "Ingrese un numero (si no desea ingresar más números presione ENTER): -1\n",
      "Ingrese un numero (si no desea ingresar más números presione ENTER): 5\n",
      "Ingrese un numero (si no desea ingresar más números presione ENTER): -5\n",
      "Ingrese un numero (si no desea ingresar más números presione ENTER): 4\n",
      "Ingrese un numero (si no desea ingresar más números presione ENTER): \n"
     ]
    },
    {
     "name": "stdout",
     "output_type": "stream",
     "text": [
      "El valor maximo es 25.0 y el valor minimo es -5.0\n"
     ]
    }
   ],
   "source": [
    "print(\"El programa le dara como resultado el valor minimo y maximo de una lista de números\")\n",
    "l_n=[]\n",
    "n=0\n",
    "while n!=\"\":\n",
    "    n=input(\"Ingrese un numero (si no desea ingresar más números presione ENTER):\")\n",
    "    if n!=\"\":        \n",
    "        n=float(n)\n",
    "        l_n.append(n)\n",
    "def calcularMaxMin(l):\n",
    "    maxmin= max(l), min(l)\n",
    "    return maxmin\n",
    "\n",
    "print(\"El valor maximo es\", calcularMaxMin(l_n)[0], \"y el valor minimo es\", calcularMaxMin(l_n)[1])\n"
   ]
  },
  {
   "cell_type": "markdown",
   "id": "a2b5c8da-9a8f-466b-8444-7345863cf96b",
   "metadata": {},
   "source": [
    "7.  Diseñar una función que calcule el área y el perímetro de una circunferencia."
   ]
  },
  {
   "cell_type": "code",
   "execution_count": 46,
   "id": "594f052d-63de-4533-af81-a7408788c631",
   "metadata": {},
   "outputs": [
    {
     "name": "stdout",
     "output_type": "stream",
     "text": [
      "Calculo del area y perimetro de una circunferencia\n"
     ]
    },
    {
     "name": "stdin",
     "output_type": "stream",
     "text": [
      "Ingrese el radio de la circunferencia 4\n"
     ]
    },
    {
     "name": "stdout",
     "output_type": "stream",
     "text": [
      "El perimetro de la circunferencia es 25.13 u. El area de la circunferencia es 50.27 u^2\n"
     ]
    }
   ],
   "source": [
    "import numpy as np\n",
    "print(\"Calculo del area y perimetro de una circunferencia\")\n",
    "\n",
    "r=float(input(\"Ingrese el radio de la circunferencia\"))\n",
    "def AyP(a):\n",
    "    valor=round(2*np.pi*a,2), round(np.pi*a**2,2)\n",
    "    return valor\n",
    "print(\"El perimetro de la circunferencia es\", AyP(r)[0],\"u. El area de la circunferencia es\", AyP(r)[1], \"u^2\") "
   ]
  },
  {
   "cell_type": "markdown",
   "id": "75b6832e-64cb-4011-a3c6-29922b3e22c3",
   "metadata": {},
   "source": [
    "8. Crear una función  llamada “Login”, que recibe un nombre de usuario y una contraseña y devuelva Verdadero si el nombre de usuario es “usuario1” y la contraseña es “asdasd”."
   ]
  },
  {
   "cell_type": "code",
   "execution_count": 108,
   "id": "7394534a-6d94-4662-9c0b-211be0564a8b",
   "metadata": {},
   "outputs": [
    {
     "name": "stdin",
     "output_type": "stream",
     "text": [
      "Usuario: ASD\n",
      "Contraseña: asdf\n"
     ]
    },
    {
     "name": "stdout",
     "output_type": "stream",
     "text": [
      "Intente de nuevo\n"
     ]
    },
    {
     "name": "stdin",
     "output_type": "stream",
     "text": [
      "Usuario: asd\n",
      "Contraseña: asd\n"
     ]
    },
    {
     "name": "stdout",
     "output_type": "stream",
     "text": [
      "Intente de nuevo\n"
     ]
    },
    {
     "name": "stdin",
     "output_type": "stream",
     "text": [
      "Usuario: usuario1\n",
      "Contraseña: asdasd\n"
     ]
    },
    {
     "name": "stdout",
     "output_type": "stream",
     "text": [
      "Verdadero\n"
     ]
    },
    {
     "data": {
      "text/plain": [
       "'Bienvenido'"
      ]
     },
     "execution_count": 108,
     "metadata": {},
     "output_type": "execute_result"
    }
   ],
   "source": [
    "def login():\n",
    "    usuario=input(\"Usuario:\")\n",
    "    contra=input(\"Contraseña:\")\n",
    "    if usuario==\"usuario1\" and contra==\"asdasd\":\n",
    "        a=\"Verdadero\"\n",
    "        print(a)\n",
    "    else:\n",
    "        print(\"Intente de nuevo\")\n",
    "        #print(\"Número de intentos:\",n)\n",
    "        login()\n",
    "    return \"Bienvenido\"\n",
    "login()"
   ]
  },
  {
   "cell_type": "markdown",
   "id": "34a16f5e-5eb9-460e-82ed-a06a0d52b7cf",
   "metadata": {},
   "source": [
    "9. Crear una función recursiva que permita calcular el factorial de un número. Realiza un programa principal donde se lea un entero y se muestre el resultado del factorial. Revise la lección de funciones."
   ]
  },
  {
   "cell_type": "code",
   "execution_count": 68,
   "id": "0f8c50d1-4f09-4c59-8855-5d27718baa6c",
   "metadata": {},
   "outputs": [
    {
     "name": "stdout",
     "output_type": "stream",
     "text": [
      "El programa calcula el factorial de un numero\n"
     ]
    },
    {
     "name": "stdin",
     "output_type": "stream",
     "text": [
      "Número: 20\n"
     ]
    },
    {
     "name": "stdout",
     "output_type": "stream",
     "text": [
      "El factorial de 20 es: 2432902008176640000\n"
     ]
    }
   ],
   "source": [
    "print(\"El programa calcula el factorial de un numero\")\n",
    "\n",
    "def fact(a):\n",
    "    a=float(a)\n",
    "    if a==0 or a==1:\n",
    "        f=1\n",
    "    elif a>1:\n",
    "        f=int(a*fact(a-1))\n",
    "    else:\n",
    "        print(\"No esta definido el factorial para este número\")\n",
    "    return f\n",
    "\n",
    "n=input(\"Número:\")\n",
    "print(\"El factorial de\", n, \"es:\", fact(n))"
   ]
  }
 ],
 "metadata": {
  "kernelspec": {
   "display_name": "Python 3 (ipykernel)",
   "language": "python",
   "name": "python3"
  },
  "language_info": {
   "codemirror_mode": {
    "name": "ipython",
    "version": 3
   },
   "file_extension": ".py",
   "mimetype": "text/x-python",
   "name": "python",
   "nbconvert_exporter": "python",
   "pygments_lexer": "ipython3",
   "version": "3.10.6"
  }
 },
 "nbformat": 4,
 "nbformat_minor": 5
}
